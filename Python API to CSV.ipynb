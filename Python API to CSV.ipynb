{
 "cells": [
  {
   "cell_type": "code",
   "execution_count": 9,
   "metadata": {},
   "outputs": [],
   "source": [
    "# Import Necessary Libraries"
   ]
  },
  {
   "cell_type": "code",
   "execution_count": 1,
   "metadata": {},
   "outputs": [
    {
     "name": "stdout",
     "output_type": "stream",
     "text": [
      "<Response [200]>\n"
     ]
    }
   ],
   "source": [
    "import json \n",
    "import pandas as pd\n",
    "pd.set_option('display.max_rows', 500)\n",
    "# pd.set_option('display.height', 500)\n",
    "pd.set_option('display.max_rows', 500)\n",
    "import requests\n",
    "import ast\n",
    "response = requests.get(\"http://api.open-notify.org/astros.json\")\n",
    "print(response)"
   ]
  },
  {
   "cell_type": "code",
   "execution_count": 3,
   "metadata": {},
   "outputs": [
    {
     "name": "stdout",
     "output_type": "stream",
     "text": [
      "{'message': 'success', 'request': {'altitude': 100, 'datetime': 1648593101, 'latitude': 45.0, 'longitude': 180.0, 'passes': 5}, 'response': [{'duration': 548, 'risetime': 1648604717}, {'duration': 654, 'risetime': 1648610443}, {'duration': 633, 'risetime': 1648616276}, {'duration': 630, 'risetime': 1648622122}, {'duration': 656, 'risetime': 1648627937}]}\n"
     ]
    }
   ],
   "source": [
    "# The following parameters are used to request data for ISS on specified latitude and longitude\n",
    "query = {'lat':'45', 'lon':'180'}\n",
    "response = requests.get('http://api.open-notify.org/iss-pass.json', params=query)\n",
    "print(response.json())"
   ]
  },
  {
   "cell_type": "code",
   "execution_count": null,
   "metadata": {},
   "outputs": [],
   "source": []
  },
  {
   "cell_type": "code",
   "execution_count": null,
   "metadata": {},
   "outputs": [],
   "source": [
    "# Convert HTTP response to Dataframe"
   ]
  },
  {
   "cell_type": "code",
   "execution_count": 5,
   "metadata": {},
   "outputs": [],
   "source": [
    "data = response.json()"
   ]
  },
  {
   "cell_type": "code",
   "execution_count": 6,
   "metadata": {},
   "outputs": [
    {
     "data": {
      "text/plain": [
       "{'message': 'success',\n",
       " 'request': {'altitude': 100,\n",
       "  'datetime': 1648593101,\n",
       "  'latitude': 45.0,\n",
       "  'longitude': 180.0,\n",
       "  'passes': 5},\n",
       " 'response': [{'duration': 548, 'risetime': 1648604717},\n",
       "  {'duration': 654, 'risetime': 1648610443},\n",
       "  {'duration': 633, 'risetime': 1648616276},\n",
       "  {'duration': 630, 'risetime': 1648622122},\n",
       "  {'duration': 656, 'risetime': 1648627937}]}"
      ]
     },
     "execution_count": 6,
     "metadata": {},
     "output_type": "execute_result"
    }
   ],
   "source": [
    "data"
   ]
  },
  {
   "cell_type": "code",
   "execution_count": 7,
   "metadata": {},
   "outputs": [
    {
     "data": {
      "text/plain": [
       "dict_keys(['message', 'request', 'response'])"
      ]
     },
     "execution_count": 7,
     "metadata": {},
     "output_type": "execute_result"
    }
   ],
   "source": [
    "data.keys()"
   ]
  },
  {
   "cell_type": "code",
   "execution_count": 10,
   "metadata": {},
   "outputs": [],
   "source": [
    "data1 = json.dumps(data)"
   ]
  },
  {
   "cell_type": "code",
   "execution_count": 11,
   "metadata": {},
   "outputs": [
    {
     "data": {
      "text/plain": [
       "{'message': 'success',\n",
       " 'request': {'altitude': 100,\n",
       "  'datetime': 1648593101,\n",
       "  'latitude': 45.0,\n",
       "  'longitude': 180.0,\n",
       "  'passes': 5},\n",
       " 'response': [{'duration': 548, 'risetime': 1648604717},\n",
       "  {'duration': 654, 'risetime': 1648610443},\n",
       "  {'duration': 633, 'risetime': 1648616276},\n",
       "  {'duration': 630, 'risetime': 1648622122},\n",
       "  {'duration': 656, 'risetime': 1648627937}]}"
      ]
     },
     "execution_count": 11,
     "metadata": {},
     "output_type": "execute_result"
    }
   ],
   "source": [
    "json.loads(data1)"
   ]
  },
  {
   "cell_type": "code",
   "execution_count": 20,
   "metadata": {},
   "outputs": [],
   "source": [
    "df = pd.json_normalize(data)"
   ]
  },
  {
   "cell_type": "code",
   "execution_count": 21,
   "metadata": {},
   "outputs": [
    {
     "data": {
      "text/html": [
       "<div>\n",
       "<style scoped>\n",
       "    .dataframe tbody tr th:only-of-type {\n",
       "        vertical-align: middle;\n",
       "    }\n",
       "\n",
       "    .dataframe tbody tr th {\n",
       "        vertical-align: top;\n",
       "    }\n",
       "\n",
       "    .dataframe thead th {\n",
       "        text-align: right;\n",
       "    }\n",
       "</style>\n",
       "<table border=\"1\" class=\"dataframe\">\n",
       "  <thead>\n",
       "    <tr style=\"text-align: right;\">\n",
       "      <th></th>\n",
       "      <th>message</th>\n",
       "      <th>response</th>\n",
       "      <th>request.altitude</th>\n",
       "      <th>request.datetime</th>\n",
       "      <th>request.latitude</th>\n",
       "      <th>request.longitude</th>\n",
       "      <th>request.passes</th>\n",
       "    </tr>\n",
       "  </thead>\n",
       "  <tbody>\n",
       "    <tr>\n",
       "      <th>0</th>\n",
       "      <td>success</td>\n",
       "      <td>[{'duration': 548, 'risetime': 1648604717}, {'...</td>\n",
       "      <td>100</td>\n",
       "      <td>1648593101</td>\n",
       "      <td>45.0</td>\n",
       "      <td>180.0</td>\n",
       "      <td>5</td>\n",
       "    </tr>\n",
       "  </tbody>\n",
       "</table>\n",
       "</div>"
      ],
      "text/plain": [
       "   message                                           response  \\\n",
       "0  success  [{'duration': 548, 'risetime': 1648604717}, {'...   \n",
       "\n",
       "   request.altitude  request.datetime  request.latitude  request.longitude  \\\n",
       "0               100        1648593101              45.0              180.0   \n",
       "\n",
       "   request.passes  \n",
       "0               5  "
      ]
     },
     "execution_count": 21,
     "metadata": {},
     "output_type": "execute_result"
    }
   ],
   "source": [
    "df.head()"
   ]
  },
  {
   "cell_type": "code",
   "execution_count": null,
   "metadata": {},
   "outputs": [],
   "source": []
  },
  {
   "cell_type": "code",
   "execution_count": null,
   "metadata": {},
   "outputs": [],
   "source": [
    "# Creating secondary dataframe to expand response column"
   ]
  },
  {
   "cell_type": "code",
   "execution_count": 22,
   "metadata": {},
   "outputs": [],
   "source": [
    "dff = pd.concat([pd.DataFrame(x) for x in df['response']], keys=df['request.datetime']).reset_index(level=1, drop=True).reset_index()"
   ]
  },
  {
   "cell_type": "code",
   "execution_count": 23,
   "metadata": {},
   "outputs": [
    {
     "data": {
      "text/html": [
       "<div>\n",
       "<style scoped>\n",
       "    .dataframe tbody tr th:only-of-type {\n",
       "        vertical-align: middle;\n",
       "    }\n",
       "\n",
       "    .dataframe tbody tr th {\n",
       "        vertical-align: top;\n",
       "    }\n",
       "\n",
       "    .dataframe thead th {\n",
       "        text-align: right;\n",
       "    }\n",
       "</style>\n",
       "<table border=\"1\" class=\"dataframe\">\n",
       "  <thead>\n",
       "    <tr style=\"text-align: right;\">\n",
       "      <th></th>\n",
       "      <th>request.datetime</th>\n",
       "      <th>duration</th>\n",
       "      <th>risetime</th>\n",
       "    </tr>\n",
       "  </thead>\n",
       "  <tbody>\n",
       "    <tr>\n",
       "      <th>0</th>\n",
       "      <td>1648593101</td>\n",
       "      <td>548</td>\n",
       "      <td>1648604717</td>\n",
       "    </tr>\n",
       "    <tr>\n",
       "      <th>1</th>\n",
       "      <td>1648593101</td>\n",
       "      <td>654</td>\n",
       "      <td>1648610443</td>\n",
       "    </tr>\n",
       "    <tr>\n",
       "      <th>2</th>\n",
       "      <td>1648593101</td>\n",
       "      <td>633</td>\n",
       "      <td>1648616276</td>\n",
       "    </tr>\n",
       "    <tr>\n",
       "      <th>3</th>\n",
       "      <td>1648593101</td>\n",
       "      <td>630</td>\n",
       "      <td>1648622122</td>\n",
       "    </tr>\n",
       "    <tr>\n",
       "      <th>4</th>\n",
       "      <td>1648593101</td>\n",
       "      <td>656</td>\n",
       "      <td>1648627937</td>\n",
       "    </tr>\n",
       "  </tbody>\n",
       "</table>\n",
       "</div>"
      ],
      "text/plain": [
       "   request.datetime  duration    risetime\n",
       "0        1648593101       548  1648604717\n",
       "1        1648593101       654  1648610443\n",
       "2        1648593101       633  1648616276\n",
       "3        1648593101       630  1648622122\n",
       "4        1648593101       656  1648627937"
      ]
     },
     "execution_count": 23,
     "metadata": {},
     "output_type": "execute_result"
    }
   ],
   "source": [
    "dff"
   ]
  },
  {
   "cell_type": "code",
   "execution_count": null,
   "metadata": {},
   "outputs": [],
   "source": []
  },
  {
   "cell_type": "code",
   "execution_count": null,
   "metadata": {},
   "outputs": [],
   "source": [
    "# Merging two dataframes"
   ]
  },
  {
   "cell_type": "code",
   "execution_count": 26,
   "metadata": {},
   "outputs": [],
   "source": [
    "df = df.merge(dff, on='request.datetime', how='left')"
   ]
  },
  {
   "cell_type": "code",
   "execution_count": 27,
   "metadata": {},
   "outputs": [
    {
     "data": {
      "text/html": [
       "<div>\n",
       "<style scoped>\n",
       "    .dataframe tbody tr th:only-of-type {\n",
       "        vertical-align: middle;\n",
       "    }\n",
       "\n",
       "    .dataframe tbody tr th {\n",
       "        vertical-align: top;\n",
       "    }\n",
       "\n",
       "    .dataframe thead th {\n",
       "        text-align: right;\n",
       "    }\n",
       "</style>\n",
       "<table border=\"1\" class=\"dataframe\">\n",
       "  <thead>\n",
       "    <tr style=\"text-align: right;\">\n",
       "      <th></th>\n",
       "      <th>message</th>\n",
       "      <th>response</th>\n",
       "      <th>request.altitude</th>\n",
       "      <th>request.datetime</th>\n",
       "      <th>request.latitude</th>\n",
       "      <th>request.longitude</th>\n",
       "      <th>request.passes</th>\n",
       "      <th>duration</th>\n",
       "      <th>risetime</th>\n",
       "    </tr>\n",
       "  </thead>\n",
       "  <tbody>\n",
       "    <tr>\n",
       "      <th>0</th>\n",
       "      <td>success</td>\n",
       "      <td>[{'duration': 548, 'risetime': 1648604717}, {'...</td>\n",
       "      <td>100</td>\n",
       "      <td>1648593101</td>\n",
       "      <td>45.0</td>\n",
       "      <td>180.0</td>\n",
       "      <td>5</td>\n",
       "      <td>548</td>\n",
       "      <td>1648604717</td>\n",
       "    </tr>\n",
       "    <tr>\n",
       "      <th>1</th>\n",
       "      <td>success</td>\n",
       "      <td>[{'duration': 548, 'risetime': 1648604717}, {'...</td>\n",
       "      <td>100</td>\n",
       "      <td>1648593101</td>\n",
       "      <td>45.0</td>\n",
       "      <td>180.0</td>\n",
       "      <td>5</td>\n",
       "      <td>654</td>\n",
       "      <td>1648610443</td>\n",
       "    </tr>\n",
       "    <tr>\n",
       "      <th>2</th>\n",
       "      <td>success</td>\n",
       "      <td>[{'duration': 548, 'risetime': 1648604717}, {'...</td>\n",
       "      <td>100</td>\n",
       "      <td>1648593101</td>\n",
       "      <td>45.0</td>\n",
       "      <td>180.0</td>\n",
       "      <td>5</td>\n",
       "      <td>633</td>\n",
       "      <td>1648616276</td>\n",
       "    </tr>\n",
       "    <tr>\n",
       "      <th>3</th>\n",
       "      <td>success</td>\n",
       "      <td>[{'duration': 548, 'risetime': 1648604717}, {'...</td>\n",
       "      <td>100</td>\n",
       "      <td>1648593101</td>\n",
       "      <td>45.0</td>\n",
       "      <td>180.0</td>\n",
       "      <td>5</td>\n",
       "      <td>630</td>\n",
       "      <td>1648622122</td>\n",
       "    </tr>\n",
       "    <tr>\n",
       "      <th>4</th>\n",
       "      <td>success</td>\n",
       "      <td>[{'duration': 548, 'risetime': 1648604717}, {'...</td>\n",
       "      <td>100</td>\n",
       "      <td>1648593101</td>\n",
       "      <td>45.0</td>\n",
       "      <td>180.0</td>\n",
       "      <td>5</td>\n",
       "      <td>656</td>\n",
       "      <td>1648627937</td>\n",
       "    </tr>\n",
       "  </tbody>\n",
       "</table>\n",
       "</div>"
      ],
      "text/plain": [
       "   message                                           response  \\\n",
       "0  success  [{'duration': 548, 'risetime': 1648604717}, {'...   \n",
       "1  success  [{'duration': 548, 'risetime': 1648604717}, {'...   \n",
       "2  success  [{'duration': 548, 'risetime': 1648604717}, {'...   \n",
       "3  success  [{'duration': 548, 'risetime': 1648604717}, {'...   \n",
       "4  success  [{'duration': 548, 'risetime': 1648604717}, {'...   \n",
       "\n",
       "   request.altitude  request.datetime  request.latitude  request.longitude  \\\n",
       "0               100        1648593101              45.0              180.0   \n",
       "1               100        1648593101              45.0              180.0   \n",
       "2               100        1648593101              45.0              180.0   \n",
       "3               100        1648593101              45.0              180.0   \n",
       "4               100        1648593101              45.0              180.0   \n",
       "\n",
       "   request.passes  duration    risetime  \n",
       "0               5       548  1648604717  \n",
       "1               5       654  1648610443  \n",
       "2               5       633  1648616276  \n",
       "3               5       630  1648622122  \n",
       "4               5       656  1648627937  "
      ]
     },
     "execution_count": 27,
     "metadata": {},
     "output_type": "execute_result"
    }
   ],
   "source": [
    "df.head()"
   ]
  },
  {
   "cell_type": "code",
   "execution_count": 28,
   "metadata": {},
   "outputs": [],
   "source": [
    "df = df.drop(['response'], axis = 1)"
   ]
  },
  {
   "cell_type": "code",
   "execution_count": 29,
   "metadata": {},
   "outputs": [
    {
     "data": {
      "text/html": [
       "<div>\n",
       "<style scoped>\n",
       "    .dataframe tbody tr th:only-of-type {\n",
       "        vertical-align: middle;\n",
       "    }\n",
       "\n",
       "    .dataframe tbody tr th {\n",
       "        vertical-align: top;\n",
       "    }\n",
       "\n",
       "    .dataframe thead th {\n",
       "        text-align: right;\n",
       "    }\n",
       "</style>\n",
       "<table border=\"1\" class=\"dataframe\">\n",
       "  <thead>\n",
       "    <tr style=\"text-align: right;\">\n",
       "      <th></th>\n",
       "      <th>message</th>\n",
       "      <th>request.altitude</th>\n",
       "      <th>request.datetime</th>\n",
       "      <th>request.latitude</th>\n",
       "      <th>request.longitude</th>\n",
       "      <th>request.passes</th>\n",
       "      <th>duration</th>\n",
       "      <th>risetime</th>\n",
       "    </tr>\n",
       "  </thead>\n",
       "  <tbody>\n",
       "    <tr>\n",
       "      <th>0</th>\n",
       "      <td>success</td>\n",
       "      <td>100</td>\n",
       "      <td>1648593101</td>\n",
       "      <td>45.0</td>\n",
       "      <td>180.0</td>\n",
       "      <td>5</td>\n",
       "      <td>548</td>\n",
       "      <td>1648604717</td>\n",
       "    </tr>\n",
       "    <tr>\n",
       "      <th>1</th>\n",
       "      <td>success</td>\n",
       "      <td>100</td>\n",
       "      <td>1648593101</td>\n",
       "      <td>45.0</td>\n",
       "      <td>180.0</td>\n",
       "      <td>5</td>\n",
       "      <td>654</td>\n",
       "      <td>1648610443</td>\n",
       "    </tr>\n",
       "    <tr>\n",
       "      <th>2</th>\n",
       "      <td>success</td>\n",
       "      <td>100</td>\n",
       "      <td>1648593101</td>\n",
       "      <td>45.0</td>\n",
       "      <td>180.0</td>\n",
       "      <td>5</td>\n",
       "      <td>633</td>\n",
       "      <td>1648616276</td>\n",
       "    </tr>\n",
       "    <tr>\n",
       "      <th>3</th>\n",
       "      <td>success</td>\n",
       "      <td>100</td>\n",
       "      <td>1648593101</td>\n",
       "      <td>45.0</td>\n",
       "      <td>180.0</td>\n",
       "      <td>5</td>\n",
       "      <td>630</td>\n",
       "      <td>1648622122</td>\n",
       "    </tr>\n",
       "    <tr>\n",
       "      <th>4</th>\n",
       "      <td>success</td>\n",
       "      <td>100</td>\n",
       "      <td>1648593101</td>\n",
       "      <td>45.0</td>\n",
       "      <td>180.0</td>\n",
       "      <td>5</td>\n",
       "      <td>656</td>\n",
       "      <td>1648627937</td>\n",
       "    </tr>\n",
       "  </tbody>\n",
       "</table>\n",
       "</div>"
      ],
      "text/plain": [
       "   message  request.altitude  request.datetime  request.latitude  \\\n",
       "0  success               100        1648593101              45.0   \n",
       "1  success               100        1648593101              45.0   \n",
       "2  success               100        1648593101              45.0   \n",
       "3  success               100        1648593101              45.0   \n",
       "4  success               100        1648593101              45.0   \n",
       "\n",
       "   request.longitude  request.passes  duration    risetime  \n",
       "0              180.0               5       548  1648604717  \n",
       "1              180.0               5       654  1648610443  \n",
       "2              180.0               5       633  1648616276  \n",
       "3              180.0               5       630  1648622122  \n",
       "4              180.0               5       656  1648627937  "
      ]
     },
     "execution_count": 29,
     "metadata": {},
     "output_type": "execute_result"
    }
   ],
   "source": [
    "df"
   ]
  },
  {
   "cell_type": "code",
   "execution_count": null,
   "metadata": {},
   "outputs": [],
   "source": [
    "# Export cleaned data"
   ]
  },
  {
   "cell_type": "code",
   "execution_count": 37,
   "metadata": {},
   "outputs": [],
   "source": [
    "df.to_csv('output.csv', index=False)"
   ]
  },
  {
   "cell_type": "code",
   "execution_count": null,
   "metadata": {},
   "outputs": [],
   "source": []
  },
  {
   "cell_type": "code",
   "execution_count": null,
   "metadata": {},
   "outputs": [],
   "source": [
    "# Reading exported data from the disk"
   ]
  },
  {
   "cell_type": "code",
   "execution_count": 38,
   "metadata": {},
   "outputs": [],
   "source": [
    "output_file = pd.read_csv('output.csv')"
   ]
  },
  {
   "cell_type": "code",
   "execution_count": 39,
   "metadata": {
    "scrolled": true
   },
   "outputs": [
    {
     "data": {
      "text/html": [
       "<div>\n",
       "<style scoped>\n",
       "    .dataframe tbody tr th:only-of-type {\n",
       "        vertical-align: middle;\n",
       "    }\n",
       "\n",
       "    .dataframe tbody tr th {\n",
       "        vertical-align: top;\n",
       "    }\n",
       "\n",
       "    .dataframe thead th {\n",
       "        text-align: right;\n",
       "    }\n",
       "</style>\n",
       "<table border=\"1\" class=\"dataframe\">\n",
       "  <thead>\n",
       "    <tr style=\"text-align: right;\">\n",
       "      <th></th>\n",
       "      <th>message</th>\n",
       "      <th>request.altitude</th>\n",
       "      <th>request.datetime</th>\n",
       "      <th>request.latitude</th>\n",
       "      <th>request.longitude</th>\n",
       "      <th>request.passes</th>\n",
       "      <th>duration</th>\n",
       "      <th>risetime</th>\n",
       "    </tr>\n",
       "  </thead>\n",
       "  <tbody>\n",
       "    <tr>\n",
       "      <th>0</th>\n",
       "      <td>success</td>\n",
       "      <td>100</td>\n",
       "      <td>1648593101</td>\n",
       "      <td>45.0</td>\n",
       "      <td>180.0</td>\n",
       "      <td>5</td>\n",
       "      <td>548</td>\n",
       "      <td>1648604717</td>\n",
       "    </tr>\n",
       "    <tr>\n",
       "      <th>1</th>\n",
       "      <td>success</td>\n",
       "      <td>100</td>\n",
       "      <td>1648593101</td>\n",
       "      <td>45.0</td>\n",
       "      <td>180.0</td>\n",
       "      <td>5</td>\n",
       "      <td>654</td>\n",
       "      <td>1648610443</td>\n",
       "    </tr>\n",
       "    <tr>\n",
       "      <th>2</th>\n",
       "      <td>success</td>\n",
       "      <td>100</td>\n",
       "      <td>1648593101</td>\n",
       "      <td>45.0</td>\n",
       "      <td>180.0</td>\n",
       "      <td>5</td>\n",
       "      <td>633</td>\n",
       "      <td>1648616276</td>\n",
       "    </tr>\n",
       "    <tr>\n",
       "      <th>3</th>\n",
       "      <td>success</td>\n",
       "      <td>100</td>\n",
       "      <td>1648593101</td>\n",
       "      <td>45.0</td>\n",
       "      <td>180.0</td>\n",
       "      <td>5</td>\n",
       "      <td>630</td>\n",
       "      <td>1648622122</td>\n",
       "    </tr>\n",
       "    <tr>\n",
       "      <th>4</th>\n",
       "      <td>success</td>\n",
       "      <td>100</td>\n",
       "      <td>1648593101</td>\n",
       "      <td>45.0</td>\n",
       "      <td>180.0</td>\n",
       "      <td>5</td>\n",
       "      <td>656</td>\n",
       "      <td>1648627937</td>\n",
       "    </tr>\n",
       "  </tbody>\n",
       "</table>\n",
       "</div>"
      ],
      "text/plain": [
       "   message  request.altitude  request.datetime  request.latitude  \\\n",
       "0  success               100        1648593101              45.0   \n",
       "1  success               100        1648593101              45.0   \n",
       "2  success               100        1648593101              45.0   \n",
       "3  success               100        1648593101              45.0   \n",
       "4  success               100        1648593101              45.0   \n",
       "\n",
       "   request.longitude  request.passes  duration    risetime  \n",
       "0              180.0               5       548  1648604717  \n",
       "1              180.0               5       654  1648610443  \n",
       "2              180.0               5       633  1648616276  \n",
       "3              180.0               5       630  1648622122  \n",
       "4              180.0               5       656  1648627937  "
      ]
     },
     "execution_count": 39,
     "metadata": {},
     "output_type": "execute_result"
    }
   ],
   "source": [
    "output_file.head()"
   ]
  },
  {
   "cell_type": "code",
   "execution_count": null,
   "metadata": {},
   "outputs": [],
   "source": []
  },
  {
   "cell_type": "code",
   "execution_count": null,
   "metadata": {},
   "outputs": [],
   "source": []
  },
  {
   "cell_type": "code",
   "execution_count": null,
   "metadata": {},
   "outputs": [],
   "source": []
  }
 ],
 "metadata": {
  "kernelspec": {
   "display_name": "Python 3",
   "language": "python",
   "name": "python3"
  },
  "language_info": {
   "codemirror_mode": {
    "name": "ipython",
    "version": 3
   },
   "file_extension": ".py",
   "mimetype": "text/x-python",
   "name": "python",
   "nbconvert_exporter": "python",
   "pygments_lexer": "ipython3",
   "version": "3.8.3"
  }
 },
 "nbformat": 4,
 "nbformat_minor": 4
}
